{
 "cells": [
  {
   "cell_type": "markdown",
   "id": "41e953b5-d281-4f87-b04d-40ec0acb3af4",
   "metadata": {
    "jp-MarkdownHeadingCollapsed": true
   },
   "source": [
    "# GridPath Workshop (UCSB)\n",
    "\n",
    "Initialization"
   ]
  },
  {
   "cell_type": "code",
   "execution_count": null,
   "id": "7b2e1de8-3d00-413a-b287-bfa219bca588",
   "metadata": {},
   "outputs": [],
   "source": [
    "import os\n",
    "import sys\n",
    "import pandas as pd\n",
    "\n",
    "# Print the current working directory. The result should end with state_model\n",
    "software_dir = os.getcwd()\n",
    "os.chdir(\"..\")\n",
    "print(software_dir)"
   ]
  },
  {
   "cell_type": "code",
   "execution_count": null,
   "id": "438d85de-90df-4f3a-a37c-d3d2f76988cf",
   "metadata": {},
   "outputs": [],
   "source": [
    "#Setting this as the primary directory for all future use\n",
    "# This is be the main folder where all files are created and stored in. \n",
    "directory = os.getcwd()\n",
    "print(directory)"
   ]
  },
  {
   "cell_type": "code",
   "execution_count": null,
   "id": "ee1da8f3-0451-45c3-a5ea-96dc8174f4db",
   "metadata": {},
   "outputs": [],
   "source": [
    "# Defining the database directory - where the database file will be created and stored. \n",
    "db_dir = f\"{directory}/db\"\n",
    "\n",
    "# Defining CSV inputs directory - where the state level input files are stored. \n",
    "csv_dir = f\"{directory}/gridpath_input_csvs\"\n",
    "\n",
    "#Defining scenario folder location\n",
    "scen_dir = f\"{directory}/scenarios\""
   ]
  },
  {
   "cell_type": "markdown",
   "id": "a85aa573-1b2b-406f-a3fd-f43694825085",
   "metadata": {
    "jp-MarkdownHeadingCollapsed": true
   },
   "source": [
    "# GridPath: Production Cost\n",
    "The following section is for running a production cost model in GridPath."
   ]
  },
  {
   "cell_type": "markdown",
   "id": "9f91d4d5-bb14-44c5-ac90-849287c7904d",
   "metadata": {},
   "source": [
    "## User edit section\n",
    "Add the folder name with input csvs and provide a name for this database."
   ]
  },
  {
   "cell_type": "code",
   "execution_count": null,
   "id": "ef20552c-893b-45cc-9be0-495e2affe2c6",
   "metadata": {},
   "outputs": [],
   "source": [
    "# Speciific  model for this run.\n",
    "# Add the name of the specific mode folder file by replacing the worth between \" \" \n",
    "gridpath_input_csvs = \"2028_12-prodcost\"\n",
    "\n",
    "# Add your database name below between \"\" or leave blank to use input_csvs_gridpath as database name\n",
    "db_name = \"\"\n",
    "db_name = db_name if db_name else gridpath_input_csvs\n",
    "print(f\"Database name is set to: {db_name}\")"
   ]
  },
  {
   "cell_type": "markdown",
   "id": "57a34234-ce12-424c-94ff-92cd92e6668e",
   "metadata": {},
   "source": [
    "### Creating database, importing state inputs and importing scenarios to the database for modeling"
   ]
  },
  {
   "cell_type": "code",
   "execution_count": null,
   "id": "2f2de1bc-1499-4ecd-9e54-6458bb354fc5",
   "metadata": {
    "scrolled": true
   },
   "outputs": [],
   "source": [
    "!python {directory}/gridpath/db/create_database.py --database {db_dir}/{db_name}.db"
   ]
  },
  {
   "cell_type": "code",
   "execution_count": null,
   "id": "a5395b34-fab1-4e5b-abf4-f4ce73d1ef4a",
   "metadata": {
    "scrolled": true,
    "tags": []
   },
   "outputs": [],
   "source": [
    "!python {directory}/gridpath/db/utilities/port_csvs_to_db.py --database {db_dir}/{db_name}.db --csv_location {csv_dir}/{gridpath_input_csvs}"
   ]
  },
  {
   "cell_type": "code",
   "execution_count": null,
   "id": "d1c5d642-6e26-4182-b1ee-0c9fb818265a",
   "metadata": {},
   "outputs": [],
   "source": [
    "!python {directory}/gridpath/db/utilities/scenario.py --database {db_dir}/{db_name}.db --csv_path {csv_dir}/{gridpath_input_csvs}/scenarios.csv"
   ]
  },
  {
   "cell_type": "code",
   "execution_count": null,
   "id": "f5046915-c099-4064-a5a7-2ddbf09b6acd",
   "metadata": {},
   "outputs": [],
   "source": [
    "# This will print out all possible scenarios available\n",
    "scenario_csv = pd.read_csv(f\"{csv_dir}/{gridpath_input_csvs}/scenarios.csv\")\n",
    "column_names = scenario_csv.columns[1:]\n",
    "\n",
    "# Print scenario names\n",
    "print(\"Available scenarios:\")\n",
    "for name in column_names:\n",
    "    print(name)"
   ]
  },
  {
   "cell_type": "markdown",
   "id": "e6d23259-f9a0-47a8-8a86-7dc635675906",
   "metadata": {},
   "source": [
    "## Select scenarios from the list above and add to the `selected_scenario` below before running."
   ]
  },
  {
   "cell_type": "markdown",
   "id": "8885b174-9c04-4338-89da-7ee0b80eb95f",
   "metadata": {},
   "source": [
    "### User Edit Section"
   ]
  },
  {
   "cell_type": "code",
   "execution_count": null,
   "id": "587551c2-3a30-4567-a051-d5b6e6e23c9d",
   "metadata": {
    "scrolled": true
   },
   "outputs": [],
   "source": [
    "# Add or remove scenarios from above to the list below:\n",
    "scen_list = [\"2028_12-prodcost-MP\"]"
   ]
  },
  {
   "cell_type": "markdown",
   "id": "6ae6fe78-7cf6-4c8a-8277-7c6855c6a138",
   "metadata": {},
   "source": [
    "### Running selected scenarios"
   ]
  },
  {
   "cell_type": "code",
   "execution_count": null,
   "id": "3ad3019a-4705-46ad-8178-520dbfd55e5c",
   "metadata": {
    "scrolled": true
   },
   "outputs": [],
   "source": [
    "# for selected_scenario in scen_list:\n",
    "#     !python {directory}/gridpath/gridpath/run_end_to_end.py --database {db_dir}/{db_name}.db --scenario {selected_scenario} --solver cbc --solver_executable {directory}\\solver\\CBC\\bin\\cbc.exe --scenario_location {scen_dir}\n",
    "\n",
    "# For Mac user, run below:\n",
    "for selected_scenario in scen_list:\n",
    "   !python {directory}/gridpath/gridpath/run_end_to_end.py --database {db_dir}/{db_name}.db --scenario {selected_scenario} --scenario_location {scen_dir}"
   ]
  },
  {
   "cell_type": "markdown",
   "id": "71e36a6c-9f38-4234-9aa5-775711b45487",
   "metadata": {
    "jp-MarkdownHeadingCollapsed": true
   },
   "source": [
    "# Visualization: Production Cost\n",
    "The following section is for visualizing the results from the GridPath Production Cost model above."
   ]
  },
  {
   "cell_type": "code",
   "execution_count": null,
   "id": "6ad9de24-0b46-4689-9fd9-196f4a07c52b",
   "metadata": {},
   "outputs": [],
   "source": [
    "# Checking the directory is correct - should be state_model folder\n",
    "os.chdir(software_dir)\n",
    "print(os.getcwd())"
   ]
  },
  {
   "cell_type": "code",
   "execution_count": null,
   "id": "a627ea1e-d733-4a38-93ca-1c1ff71de7af",
   "metadata": {},
   "outputs": [],
   "source": [
    "# loading packages and setting results folder\n",
    "from loading_utils import * \n",
    "from plotting_utils import * \n",
    "from processing_utils import * \n",
    "from pdf_report import * \n",
    "\n",
    "pd.options.display.float_format = \"{:,.2f}\".format\n",
    "\n",
    "path_to_scenarios = f\"{directory}/scenarios\"\n",
    "print(path_to_scenarios)"
   ]
  },
  {
   "cell_type": "markdown",
   "id": "59de8eb8-2bb0-436b-89a4-83d52cb14eb9",
   "metadata": {},
   "source": [
    "Loading necessary functions for the zones, scenarios labels `<scenario_labels.csv>` and technology colors `<technology_labels.csv>` to plot the graph for new and existing capacity"
   ]
  },
  {
   "cell_type": "code",
   "execution_count": null,
   "id": "4898592f-c972-4bad-9be0-702347a0a9fd",
   "metadata": {},
   "outputs": [],
   "source": [
    "scen_labels_     = pd.read_csv(directory + '/gridpath_input_csvs/scenario_labels-prodcost.csv') \n",
    "tech_labels_     = pd.read_csv(directory + '/gridpath_input_csvs/technology_labels-prodcost.csv') \n",
    "dispatch_labels_ = pd.read_csv(directory + '/gridpath_input_csvs/dispatch_labels-prodcost.csv') "
   ]
  },
  {
   "cell_type": "markdown",
   "id": "7a133e0c-4b8b-47ca-a798-80007e6f0e1a",
   "metadata": {},
   "source": [
    "Load storage devices state of charge by tehcnology"
   ]
  },
  {
   "cell_type": "code",
   "execution_count": null,
   "id": "9e735de3-77b8-405d-aa22-d05810ec9c85",
   "metadata": {},
   "outputs": [],
   "source": [
    "soc_ = _load_stor(scen_labels_, path_to_scenarios, gp_model = 'production')"
   ]
  },
  {
   "cell_type": "code",
   "execution_count": null,
   "id": "14c7c63e-11af-4c19-8ed8-0183f86370b0",
   "metadata": {},
   "outputs": [],
   "source": [
    "_plot_soc(soc_, scen_labels_, tech_labels_,\n",
    "          units_label  = 'State of Charge (%)',\n",
    "          legend       = True,\n",
    "          save         = True,\n",
    "          title        = '',\n",
    "          file_name    = directory + r'/plots/state_of_charge_prodcost.png')"
   ]
  },
  {
   "cell_type": "markdown",
   "id": "297acee8-27e4-4ae8-bb10-e9f3865adde0",
   "metadata": {},
   "source": [
    "Load system load, overgenarion and unserved energy"
   ]
  },
  {
   "cell_type": "code",
   "execution_count": null,
   "id": "28d8c991-a3e2-4da9-9151-5124f3494157",
   "metadata": {},
   "outputs": [],
   "source": [
    "demand_ = _load_resource_adequacy_demand(scen_labels_, path_to_scenarios, gp_model = 'production')"
   ]
  },
  {
   "cell_type": "markdown",
   "id": "a060106f-f7ad-4454-8085-1015fe39a8ba",
   "metadata": {},
   "source": [
    "## Probabilistic reliability metrics for resource adequacy:\n",
    "\n",
    "* **Loss-Of-Load Probability (LOLP)**: the likelihood that electricity demand will exceed available generation capacity over a specific period.\n",
    "* **Loss-Of-Load Event (LOLE)**: the expected hours when electricity demand exceeds what is available.\n",
    "* **Loss-Of-Load Frequency (LOLF)**: the expected number of times a power system experiences a loss-of-load event over the period\n",
    "* **Loss-Of-Load Duration (LOLD)**: the average length of time that a loss-of-load event lasts when it occurs over the period.\n",
    "* **Expected Unserved Energy (EUE)**: the amount of demand that is expected to be unmet due to insufficient generation capacity, transmission constraints, or other system limitations over the period."
   ]
  },
  {
   "cell_type": "code",
   "execution_count": null,
   "id": "a77c9498-be81-40ee-839c-30b79cd811a8",
   "metadata": {},
   "outputs": [],
   "source": [
    "summary_ = _resource_adequacy(demand_)\n",
    "summary_"
   ]
  },
  {
   "cell_type": "code",
   "execution_count": null,
   "id": "514d6721-ac07-4f8f-91d1-b5e5fe7f4bf0",
   "metadata": {},
   "outputs": [],
   "source": [
    "capacity_         = _load_capacity(scen_labels_, path_to_scenarios, gp_model = 'production')\n",
    "grouped_capacity_ = _group_capacity_technologies(capacity_, tech_labels_)\n",
    "grouped_capacity_"
   ]
  },
  {
   "cell_type": "markdown",
   "id": "12557ed3-e2b1-4658-936f-16e9d31cd74f",
   "metadata": {},
   "source": [
    "Plotting the new and existing capacity across different scenarios. Add title name for the plot."
   ]
  },
  {
   "cell_type": "code",
   "execution_count": null,
   "id": "9c33dfee-8e9c-4a79-8020-29567ad3916e",
   "metadata": {},
   "outputs": [],
   "source": [
    "_plot_new_and_existing_capacity(grouped_capacity_, scen_labels_, tech_labels_,\n",
    "                                units        = 1e3,\n",
    "                                units_label  = 'Existing & New Capacity (GW)',\n",
    "                                legend       = True,\n",
    "                                save         = True,\n",
    "                                y_grid_inc   = 25,\n",
    "                                title        = '',\n",
    "                                file_name    = directory + r'/plots/group_installed_capacity_prodcost.png')"
   ]
  },
  {
   "cell_type": "markdown",
   "id": "fa687b2b-5942-49cc-8513-0b53ba0a7f43",
   "metadata": {},
   "source": [
    "Energy dispatch by scenarios, zone and date"
   ]
  },
  {
   "cell_type": "code",
   "execution_count": null,
   "id": "71ad4634-fe34-4729-8209-e4b64b980541",
   "metadata": {},
   "outputs": [],
   "source": [
    "ed_ = _processing_energy_dispatch(scen_labels_, path_to_scenarios, model = 'production')\n",
    "ed_ = _group_dispatch_technologies_by_zone_and_date_production(ed_, tech_labels_)"
   ]
  },
  {
   "cell_type": "code",
   "execution_count": null,
   "id": "47e912b7-7cf1-420d-9197-34eae22e40ce",
   "metadata": {},
   "outputs": [],
   "source": [
    "# Plot energy dispatch for a given day\n",
    "_plot_zone_energy_dispatch_production(ed_, scen_labels_, tech_labels_, dispatch_labels_,\n",
    "                                      save      = True,\n",
    "                                      legend    = True,\n",
    "                                      file_name = directory + r'/plots/energy_dispatch_prodcost.png')"
   ]
  },
  {
   "cell_type": "markdown",
   "id": "1ca04bb3-1330-4f96-b9e2-891889633f53",
   "metadata": {},
   "source": [
    "Load energy dispatch across scenarios and group the energy dispatch by technology"
   ]
  },
  {
   "cell_type": "code",
   "execution_count": null,
   "id": "104a93cd-04a8-4e21-97d2-8413a688989b",
   "metadata": {},
   "outputs": [],
   "source": [
    "dispatch_         = _load_energy_dispatch(scen_labels_, path_to_scenarios, gp_model = 'production')\n",
    "grouped_dispatch_ = _group_dispatch_technologies(dispatch_, tech_labels_)\n",
    "grouped_dispatch_"
   ]
  },
  {
   "cell_type": "markdown",
   "id": "b2f4d9d8-6981-4405-8ebf-0a8a6346a857",
   "metadata": {},
   "source": [
    "Plotting energy dispatch per technology for different scenarios"
   ]
  },
  {
   "cell_type": "code",
   "execution_count": null,
   "id": "1d811443-1a53-4dc5-b5f8-dfb3f2514ddc",
   "metadata": {},
   "outputs": [],
   "source": [
    "# Enter a title of your choice between the quotation marks ('') under title = ''.\n",
    "_plot_dispatch(grouped_dispatch_, scen_labels_,  tech_labels_, \n",
    "               units        = 1e6, \n",
    "               units_label  = r'Electricity Generation (TWh)',\n",
    "               save         = True,\n",
    "               legend       = True,\n",
    "               y_grid_inc   = 50,\n",
    "               title        = '',\n",
    "               file_name    = directory + r'/plots/group_electricity_generation_prodcost.png')"
   ]
  },
  {
   "cell_type": "markdown",
   "id": "f0c1a16d-01ec-4150-b712-7edf76d822d4",
   "metadata": {},
   "source": [
    "Load Greenhouse Gas (GHG) emissions and load energy demand for different scenarios"
   ]
  },
  {
   "cell_type": "code",
   "execution_count": null,
   "id": "995109a3-5f22-4232-9a64-68e5d8443695",
   "metadata": {},
   "outputs": [],
   "source": [
    "emissions_, demand_ = _load_GHG_emissions(scen_labels_, path_to_scenarios, gp_model = 'production')\n",
    "emissions_"
   ]
  },
  {
   "cell_type": "markdown",
   "id": "0d7693d8-05b5-4635-92d8-a1708341a671",
   "metadata": {},
   "source": [
    "Plot GHG emissions for different scenarios"
   ]
  },
  {
   "cell_type": "code",
   "execution_count": null,
   "id": "5deb5f26-89dd-4f32-9617-515701969404",
   "metadata": {},
   "outputs": [],
   "source": [
    "# Enter a title of your choice between the quotation marks ('') under title = ''.\n",
    "_plot_emissions(emissions_, scen_labels_, \n",
    "                units      = 1e6,\n",
    "                unit_label = r'GHG Emissions (MtCO$_2$)',\n",
    "                save       = True,\n",
    "                legend     = True,\n",
    "                title      = '',\n",
    "                file_name  = directory + r'/plots/GHG_emissions_prodcost.png')"
   ]
  },
  {
   "cell_type": "markdown",
   "id": "57bce042-17df-43f8-b814-ee2937380b80",
   "metadata": {},
   "source": [
    "Processing GHG emissions intensity for different scenarios"
   ]
  },
  {
   "cell_type": "code",
   "execution_count": null,
   "id": "f52c621c-c3df-4712-91aa-65d45cef08bf",
   "metadata": {},
   "outputs": [],
   "source": [
    "intesity_, demand_ = _GHG_emissions_intensity(emissions_, demand_)\n",
    "intesity_"
   ]
  },
  {
   "cell_type": "markdown",
   "id": "f707ebb1-7b3f-4e03-8e61-9fb2521860eb",
   "metadata": {},
   "source": [
    "Plot GHG emissions intensity for different scenarios"
   ]
  },
  {
   "cell_type": "code",
   "execution_count": null,
   "id": "b4b6560a-4039-46db-8a8c-ddaa9c4872bd",
   "metadata": {},
   "outputs": [],
   "source": [
    "# Enter a title of your choice between the quotation marks ('') under title = ''.\n",
    "_plot_emissions_intensity(intesity_, scen_labels_, \n",
    "                          unit_label = r'GHG Intensity (MtCO$_2$/MWh)',\n",
    "                          save       = True,\n",
    "                          legend     = True,\n",
    "                          title      = '',\n",
    "                          file_name  = directory + r'/plots/GHG_emissions_intensity_prodcost.png')"
   ]
  },
  {
   "cell_type": "markdown",
   "id": "30c27edf-fe07-4370-aa39-a7ca4cbb846d",
   "metadata": {},
   "source": [
    "Load system cost data for different scenarios"
   ]
  },
  {
   "cell_type": "code",
   "execution_count": null,
   "id": "8f013add-b592-461e-a673-4eab87b0f374",
   "metadata": {},
   "outputs": [],
   "source": [
    "system_cost_ = _load_system_cost(scen_labels_, path_to_scenarios, gp_model = 'production')\n",
    "system_cost_"
   ]
  },
  {
   "cell_type": "markdown",
   "id": "d077e865-541f-4a41-a175-715ac1058d8b",
   "metadata": {},
   "source": [
    "Plot system Levelized Cost of Electricity (LCOE) for different scenarios"
   ]
  },
  {
   "cell_type": "code",
   "execution_count": null,
   "id": "c9e46c0d",
   "metadata": {},
   "outputs": [],
   "source": [
    "# Enter a title of your choice between the quotation marks ('') under title = ''.\n",
    "_plot_system_cost(system_cost_, scen_labels_, \n",
    "                  unit_label = r'Costs (Rupees per MWh)', \n",
    "                  save       = True, \n",
    "                  legend     = True,\n",
    "                  title      = '', \n",
    "                  file_name  = directory + r'/plots/system_cost_prodcost.png')"
   ]
  },
  {
   "cell_type": "code",
   "execution_count": null,
   "id": "ba528565-48b7-4bb2-b592-7254fc93770e",
   "metadata": {
    "scrolled": true
   },
   "outputs": [],
   "source": [
    "# Replace with a specific scenario if needed, otherwise leave blank\n",
    "scenario = '2028_12-prodcost-MP' \n",
    "# Replace with 'new' or existing' so only new capacity is shown, otherwise leave blank for new and existing\n",
    "status = '' \n",
    "filtered_capacity_ = _filter_capacity(grouped_capacity_, scenario, status)\n",
    "filtered_capacity_"
   ]
  },
  {
   "cell_type": "markdown",
   "id": "bb004c21-c26a-40d3-8c2d-0623a3d92c40",
   "metadata": {},
   "source": [
    "## PDF Report Output"
   ]
  },
  {
   "cell_type": "code",
   "execution_count": null,
   "id": "398703f1-10ff-4fe2-89f6-b944f64561ea",
   "metadata": {},
   "outputs": [],
   "source": [
    "# Option to add tables at the end of the PDF\n",
    "add_tables = True  # Set to True to add tables; False to exclude tables"
   ]
  },
  {
   "cell_type": "code",
   "execution_count": null,
   "id": "1462bb6b-a83b-4bd9-8a83-41c7e6c1c0fe",
   "metadata": {},
   "outputs": [],
   "source": [
    "# Define file paths based on the existing directory variable\n",
    "plot_details_csv = directory + r'/gridpath_input_csvs/plot_details-prodcost.csv'\n",
    "output_pdf_filename = directory + r'/Gridpath_Production_Cost_Report.pdf' \n",
    "\n",
    "tables = [summary_]  # List of DataFrames\n",
    "\n",
    "# Generate the PDF\n",
    "generate_pdf_report(directory, plot_details_csv, output_pdf_filename, tables=tables, add_tables=add_tables)"
   ]
  },
  {
   "cell_type": "code",
   "execution_count": null,
   "id": "f1ac6bfe-8e79-451e-b5e8-b2c86b1a0ccf",
   "metadata": {},
   "outputs": [],
   "source": []
  }
 ],
 "metadata": {
  "kernelspec": {
   "display_name": "Python 3 (ipykernel)",
   "language": "python",
   "name": "python3"
  },
  "language_info": {
   "codemirror_mode": {
    "name": "ipython",
    "version": 3
   },
   "file_extension": ".py",
   "mimetype": "text/x-python",
   "name": "python",
   "nbconvert_exporter": "python",
   "pygments_lexer": "ipython3",
   "version": "3.9.18"
  }
 },
 "nbformat": 4,
 "nbformat_minor": 5
}
