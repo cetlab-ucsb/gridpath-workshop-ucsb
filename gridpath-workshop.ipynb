{
 "cells": [
  {
   "cell_type": "markdown",
   "id": "41e953b5-d281-4f87-b04d-40ec0acb3af4",
   "metadata": {
    "jp-MarkdownHeadingCollapsed": true
   },
   "source": [
    "# GridPath Workshop (UCSB)\n",
    "\n",
    "Initialization of functionalities"
   ]
  },
  {
   "cell_type": "code",
   "execution_count": null,
   "id": "7b2e1de8-3d00-413a-b287-bfa219bca588",
   "metadata": {},
   "outputs": [],
   "source": [
    "import os\n",
    "import pandas as pd\n",
    "import sys\n",
    "\n",
    "# Print the current working directory. The result should end with state_model\n",
    "software_dir = os.getcwd()\n",
    "os.chdir(\"..\")\n",
    "print(software_dir)"
   ]
  },
  {
   "cell_type": "code",
   "execution_count": null,
   "id": "438d85de-90df-4f3a-a37c-d3d2f76988cf",
   "metadata": {},
   "outputs": [],
   "source": [
    "#Setting this as the primary directory for all future use\n",
    "# This is be the main folder where all files are created and stored in. \n",
    "directory = os.getcwd()\n",
    "print(directory)"
   ]
  },
  {
   "cell_type": "code",
   "execution_count": null,
   "id": "ee1da8f3-0451-45c3-a5ea-96dc8174f4db",
   "metadata": {},
   "outputs": [],
   "source": [
    "# Defining the database directory - where the database file will be created and stored. \n",
    "db_dir = f\"{directory}/db\"\n",
    "\n",
    "# Defining CSV inputs directory - where the state level input files are stored. \n",
    "csv_dir = f\"{directory}/input_csvs_gridpath\"\n",
    "\n",
    "#Defining scenario folder location\n",
    "scen_dir = f\"{directory}/scenarios\""
   ]
  },
  {
   "cell_type": "markdown",
   "id": "a85aa573-1b2b-406f-a3fd-f43694825085",
   "metadata": {
    "jp-MarkdownHeadingCollapsed": true
   },
   "source": [
    "# GridPath\n",
    "The following section is for running GridPath."
   ]
  },
  {
   "cell_type": "markdown",
   "id": "9f91d4d5-bb14-44c5-ac90-849287c7904d",
   "metadata": {},
   "source": [
    "## User edit section\n",
    "Add the folder name with input csvs and provide a name for this database."
   ]
  },
  {
   "cell_type": "code",
   "execution_count": null,
   "id": "ef20552c-893b-45cc-9be0-495e2affe2c6",
   "metadata": {},
   "outputs": [],
   "source": [
    "# Speciific  model for this run.\n",
    "# Add the name of the specific mode folder file by replacing the worth between \" \" \n",
    "input_csvs_gridpath = \"TN_7-2050-24\"\n",
    "\n",
    "# Add your database name below between \"\" or leave blank to use input_csvs_gridpath as database name\n",
    "db_name = \"\"\n",
    "db_name = db_name if db_name else input_csvs_gridpath\n",
    "print(f\"Database name is set to: {db_name}\")"
   ]
  },
  {
   "cell_type": "markdown",
   "id": "57a34234-ce12-424c-94ff-92cd92e6668e",
   "metadata": {},
   "source": [
    "## Creating database, importing state inputs and importing scenarios to the database for modelling"
   ]
  },
  {
   "cell_type": "code",
   "execution_count": null,
   "id": "2f2de1bc-1499-4ecd-9e54-6458bb354fc5",
   "metadata": {
    "scrolled": true
   },
   "outputs": [],
   "source": [
    "!python {directory}/gridpath/db/create_database.py --database {db_dir}/{db_name}.db\n",
    "!python {directory}/gridpath/db/utilities/port_csvs_to_db.py --database {db_dir}/{db_name}.db --csv_location {csv_dir}/{input_csvs_gridpath}\n",
    "!python {directory}/gridpath/db/utilities/scenario.py --database {db_dir}/{db_name}.db --csv_path {csv_dir}/{input_csvs_gridpath}/scenarios.csv"
   ]
  },
  {
   "cell_type": "code",
   "execution_count": null,
   "id": "f5046915-c099-4064-a5a7-2ddbf09b6acd",
   "metadata": {},
   "outputs": [],
   "source": [
    "# This will print out all possible scenarios available\n",
    "scenario_csv = pd.read_csv(f\"{csv_dir}/{input_csvs_gridpath}/scenarios.csv\")\n",
    "column_names = scenario_csv.columns[1:]\n",
    "\n",
    "# Print scenario names\n",
    "print(\"Available scenarios:\")\n",
    "for name in column_names:\n",
    "    print(name)"
   ]
  },
  {
   "cell_type": "markdown",
   "id": "e6d23259-f9a0-47a8-8a86-7dc635675906",
   "metadata": {},
   "source": [
    "## Select scenarios from the list above and add to the selected_scenario below before running."
   ]
  },
  {
   "cell_type": "code",
   "execution_count": null,
   "id": "587551c2-3a30-4567-a051-d5b6e6e23c9d",
   "metadata": {
    "scrolled": true
   },
   "outputs": [],
   "source": [
    "### Select scenario #1 from above for run\n",
    "selected_scenario = \"VRElow_STlow_CONVmid_BPHS_NuclearPVboth_45Ret_PRM110_TN_3_2030_24\"\n",
    "!python {directory}/gridpath/gridpath/run_end_to_end.py --database {db_dir}/{db_name}.db --scenario {selected_scenario} --scenario_location {scen_dir}"
   ]
  },
  {
   "cell_type": "code",
   "execution_count": null,
   "id": "e98d026b-5e9f-4abf-8221-f7e3ac830c1e",
   "metadata": {
    "scrolled": true
   },
   "outputs": [],
   "source": [
    "### Select scenario #2 from above for run\n",
    "selected_scenario = \"VREmid_STmid_CONVmid_BPHS_NuclearPVboth_45Ret_PRM110_TN_3_2030_24\"\n",
    "!python {directory}/gridpath/gridpath/run_end_to_end.py --database {db_dir}/{db_name}.db --scenario {selected_scenario} --scenario_location {scen_dir}"
   ]
  },
  {
   "cell_type": "code",
   "execution_count": null,
   "id": "3ad3019a-4705-46ad-8178-520dbfd55e5c",
   "metadata": {
    "scrolled": true
   },
   "outputs": [],
   "source": [
    "### Select scenario #3 from above for run\n",
    "selected_scenario = \"VREhigh_SThigh_CONVmid_BPHS_NuclearPVboth_45Ret_PRM110_TN_3_2030_24\"\n",
    "!python {directory}/gridpath/gridpath/run_end_to_end.py --database {db_dir}/{db_name}.db --scenario {selected_scenario} --scenario_location {scen_dir}"
   ]
  },
  {
   "cell_type": "markdown",
   "id": "71e36a6c-9f38-4234-9aa5-775711b45487",
   "metadata": {
    "jp-MarkdownHeadingCollapsed": true
   },
   "source": [
    "# Vizualization\n",
    "The following section is for visualizing the results from the GridPath model above."
   ]
  },
  {
   "cell_type": "code",
   "execution_count": null,
   "id": "1d640656-17ce-4076-97dc-76b4698dfbb2",
   "metadata": {},
   "outputs": [],
   "source": [
    "import sys\n",
    "import os\n",
    "import pandas as pd\n",
    "\n",
    "# Checking the directory is correct - should be state_model folder\n",
    "os.chdir(software_dir)\n",
    "print(os.getcwd())"
   ]
  },
  {
   "cell_type": "code",
   "execution_count": null,
   "id": "a627ea1e-d733-4a38-93ca-1c1ff71de7af",
   "metadata": {},
   "outputs": [],
   "source": [
    "# loading packages and setting results folder\n",
    "from loading_utils import * \n",
    "from plotting_utils import * \n",
    "\n",
    "path_to_scenarios = f\"{directory}/scenarios\"\n",
    "print(path_to_scenarios)"
   ]
  },
  {
   "cell_type": "markdown",
   "id": "59de8eb8-2bb0-436b-89a4-83d52cb14eb9",
   "metadata": {},
   "source": [
    "Loading necessary functions for the zones, scenarios labels `<scenario_labels.csv>` and technology colors `<technology_labels.csv>` to plot the graph for new and existing capacity"
   ]
  },
  {
   "cell_type": "code",
   "execution_count": null,
   "id": "4898592f-c972-4bad-9be0-702347a0a9fd",
   "metadata": {},
   "outputs": [],
   "source": [
    "scen_labels_ = pd.read_csv(directory + '/input_csvs_plotting/scenario_labels.csv') \n",
    "tech_labels_ = pd.read_csv(directory + '/input_csvs_plotting/technology_labels.csv') "
   ]
  },
  {
   "cell_type": "markdown",
   "id": "297acee8-27e4-4ae8-bb10-e9f3865adde0",
   "metadata": {},
   "source": [
    "Load new and existing capacity across different scenarios, grouping the capacity by technology."
   ]
  },
  {
   "cell_type": "code",
   "execution_count": null,
   "id": "514d6721-ac07-4f8f-91d1-b5e5fe7f4bf0",
   "metadata": {
    "scrolled": true
   },
   "outputs": [],
   "source": [
    "capacity_         = _load_new_and_existing_capacity(scen_labels_, path_to_scenarios)\n",
    "grouped_capacity_ = _group_capacity_technologies(capacity_, tech_labels_)\n",
    "grouped_capacity_.style"
   ]
  },
  {
   "cell_type": "markdown",
   "id": "12557ed3-e2b1-4658-936f-16e9d31cd74f",
   "metadata": {},
   "source": [
    "Plotting the new and existing capacity across different scenarios. Add title name for the plot."
   ]
  },
  {
   "cell_type": "code",
   "execution_count": null,
   "id": "9c33dfee-8e9c-4a79-8020-29567ad3916e",
   "metadata": {},
   "outputs": [],
   "source": [
    "# Enter a title of your choice between the quotation marks ('') under title = ''.\n",
    "_plot_new_and_existing_capacity(grouped_capacity_, scen_labels_, tech_labels_,\n",
    "                                title        = '',\n",
    "                                units_label  = 'Existing & New Capacity (GW)',\n",
    "                                units        = 1e3,\n",
    "                                legend       = True,\n",
    "                                save         = True,\n",
    "                                file_name    = directory + r'/plots/group_installed_capacity.png',\n",
    "                                y_grid_inc   = 25)"
   ]
  },
  {
   "cell_type": "markdown",
   "id": "1ca04bb3-1330-4f96-b9e2-891889633f53",
   "metadata": {},
   "source": [
    "Load energy dispatch across scenarios and group the energy dispatch by technology"
   ]
  },
  {
   "cell_type": "code",
   "execution_count": null,
   "id": "01ef2c01-3374-4c18-ab1c-7bf3dea99b6f",
   "metadata": {
    "scrolled": true
   },
   "outputs": [],
   "source": [
    "dispatch_         = _load_energy_dispatch(scen_labels_, path_to_scenarios)\n",
    "tx_losses_        = _load_energy_transmission(scen_labels_, path_to_scenarios)\n",
    "dispatch_         = _merge_dispatch_and_tx_losses_(dispatch_, tx_losses_)\n",
    "grouped_dispatch_ = _group_dispatch_technologies(dispatch_, tech_labels_)\n",
    "grouped_dispatch_.style"
   ]
  },
  {
   "cell_type": "markdown",
   "id": "b2f4d9d8-6981-4405-8ebf-0a8a6346a857",
   "metadata": {},
   "source": [
    "Plotting energy dispatch per technology for different scenarios"
   ]
  },
  {
   "cell_type": "code",
   "execution_count": null,
   "id": "1d811443-1a53-4dc5-b5f8-dfb3f2514ddc",
   "metadata": {},
   "outputs": [],
   "source": [
    "# Enter a title of your choice between the quotation marks ('') under title = ''.\n",
    "_plot_dispatch(grouped_dispatch_, scen_labels_,  tech_labels_, \n",
    "               units        = 1e6, \n",
    "               units_label  = r'Electricity Generation (TWh)',\n",
    "               save         = True,\n",
    "               legend       = True,\n",
    "                y_grid_inc  = 50,\n",
    "               title        = '',\n",
    "               file_name    = directory + r'/plots/group_electricity_generation.png')"
   ]
  },
  {
   "cell_type": "markdown",
   "id": "f0c1a16d-01ec-4150-b712-7edf76d822d4",
   "metadata": {},
   "source": [
    "Load GHG emissions and load demand date for different scenarios"
   ]
  },
  {
   "cell_type": "code",
   "execution_count": null,
   "id": "6b88e86a-448f-4acd-9108-658311a9df2a",
   "metadata": {
    "scrolled": true
   },
   "outputs": [],
   "source": [
    "emissions_, demands_ = _load_GHG_emissions(scen_labels_, path_to_scenarios)\n",
    "emissions_.style"
   ]
  },
  {
   "cell_type": "markdown",
   "id": "0d7693d8-05b5-4635-92d8-a1708341a671",
   "metadata": {},
   "source": [
    "Plot GHG emissions for different scenarios"
   ]
  },
  {
   "cell_type": "code",
   "execution_count": null,
   "id": "5deb5f26-89dd-4f32-9617-515701969404",
   "metadata": {},
   "outputs": [],
   "source": [
    "# Enter a title of your choice between the quotation marks ('') under title = ''.\n",
    "_plot_emissions(emissions_, scen_labels_, \n",
    "                save       = True,\n",
    "                legend     = True,\n",
    "                units      = 1e6,\n",
    "                unit_label = r'GHG Emissions (MtCO$_2$)',\n",
    "                title      = '',\n",
    "                file_name  = directory + r'/plots/GHG_emissions.png')"
   ]
  },
  {
   "cell_type": "markdown",
   "id": "57bce042-17df-43f8-b814-ee2937380b80",
   "metadata": {},
   "source": [
    "Processing GHG emissions intensity for different scenarios"
   ]
  },
  {
   "cell_type": "code",
   "execution_count": null,
   "id": "f52c621c-c3df-4712-91aa-65d45cef08bf",
   "metadata": {},
   "outputs": [],
   "source": [
    "intesity_, demands_ = _GHG_emissions_intensity(emissions_, demands_)\n",
    "intesity_.style"
   ]
  },
  {
   "cell_type": "markdown",
   "id": "f707ebb1-7b3f-4e03-8e61-9fb2521860eb",
   "metadata": {},
   "source": [
    "Plot GHG emissions intensity for different scenarios"
   ]
  },
  {
   "cell_type": "code",
   "execution_count": null,
   "id": "b4b6560a-4039-46db-8a8c-ddaa9c4872bd",
   "metadata": {},
   "outputs": [],
   "source": [
    "# Enter a title of your choice between the quotation marks ('') under title = ''.\n",
    "_plot_emissions_intensity(intesity_, scen_labels_, \n",
    "                          save       = True,\n",
    "                          legend     = True,\n",
    "                          unit_label = r'GHG Intensity (MtCO$_2$/MWh)',\n",
    "                          title      = '',\n",
    "                          file_name  = directory + r'/plots/GHG_emissions_intensity.png')"
   ]
  },
  {
   "cell_type": "markdown",
   "id": "30c27edf-fe07-4370-aa39-a7ca4cbb846d",
   "metadata": {},
   "source": [
    "Load system cost data for different scenarios"
   ]
  },
  {
   "cell_type": "code",
   "execution_count": null,
   "id": "8f013add-b592-461e-a673-4eab87b0f374",
   "metadata": {},
   "outputs": [],
   "source": [
    "system_cost_ = _load_system_cost(scen_labels_, path_to_scenarios)\n",
    "system_cost_.style"
   ]
  },
  {
   "cell_type": "markdown",
   "id": "d077e865-541f-4a41-a175-715ac1058d8b",
   "metadata": {},
   "source": [
    "Plot LCOE system cost for different scenarios"
   ]
  },
  {
   "cell_type": "code",
   "execution_count": null,
   "id": "c9e46c0d",
   "metadata": {},
   "outputs": [],
   "source": [
    "# Enter a title of your choice between the quotation marks ('') under title = ''.\n",
    "_plot_system_cost(system_cost_, scen_labels_, \n",
    "                  save       = True, \n",
    "                  legend     = True,\n",
    "                  unit_label = r'Costs (USD per MWh)', \n",
    "                  title      = '', \n",
    "                  file_name  = directory + r'/plots/system_cost.png')"
   ]
  }
 ],
 "metadata": {
  "kernelspec": {
   "display_name": "Python 3 (ipykernel)",
   "language": "python",
   "name": "python3"
  },
  "language_info": {
   "codemirror_mode": {
    "name": "ipython",
    "version": 3
   },
   "file_extension": ".py",
   "mimetype": "text/x-python",
   "name": "python",
   "nbconvert_exporter": "python",
   "pygments_lexer": "ipython3",
   "version": "3.8.18"
  }
 },
 "nbformat": 4,
 "nbformat_minor": 5
}
