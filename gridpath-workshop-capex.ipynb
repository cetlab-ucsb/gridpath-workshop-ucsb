{
 "cells": [
  {
   "cell_type": "markdown",
   "id": "1ebbe61c-93fd-461a-a2e8-f438f90cb123",
   "metadata": {
    "jp-MarkdownHeadingCollapsed": true
   },
   "source": [
    "# GridPath Workshop (UCSB)\n",
    "\n",
    "Initialization"
   ]
  },
  {
   "cell_type": "code",
   "execution_count": null,
   "id": "6bc30f7d-4c4b-48a6-9a4b-a332ba2086bd",
   "metadata": {},
   "outputs": [],
   "source": [
    "import os\n",
    "import sys\n",
    "import pandas as pd\n",
    "\n",
    "# Print the current working directory. The result should end with state_model\n",
    "software_dir = os.getcwd()\n",
    "os.chdir(\"..\")\n",
    "print(software_dir)"
   ]
  },
  {
   "cell_type": "code",
   "execution_count": null,
   "id": "668bd79e-7361-4234-84a7-d037eda49250",
   "metadata": {},
   "outputs": [],
   "source": [
    "#Setting this as the primary directory for all future use\n",
    "# This is be the main folder where all files are created and stored in. \n",
    "directory = os.getcwd()\n",
    "print(directory)"
   ]
  },
  {
   "cell_type": "code",
   "execution_count": null,
   "id": "ca242a6b-13cf-4020-b09f-2144a7002dfd",
   "metadata": {},
   "outputs": [],
   "source": [
    "# Defining the database directory - where the database file will be created and stored. \n",
    "db_dir = f\"{directory}/db\"\n",
    "\n",
    "# Defining CSV inputs directory - where the state level input files are stored. \n",
    "csv_dir = f\"{directory}/gridpath_input_csvs\"\n",
    "\n",
    "#Defining scenario folder location\n",
    "scen_dir = f\"{directory}/scenarios\""
   ]
  },
  {
   "cell_type": "markdown",
   "id": "89873b1e-bea3-4b05-a716-ead33bcca382",
   "metadata": {
    "jp-MarkdownHeadingCollapsed": true
   },
   "source": [
    "# GridPath: Capacity Expansion\n",
    "The following section is for running a capacity expansion model in GridPath."
   ]
  },
  {
   "cell_type": "markdown",
   "id": "1c0fe198-f2c3-4eb7-ab80-82627630524e",
   "metadata": {},
   "source": [
    "## User edit section\n",
    "Add the folder name with input csvs and provide a name for this database."
   ]
  },
  {
   "cell_type": "code",
   "execution_count": null,
   "id": "cb741145-d30a-4895-b29e-30ca88487d53",
   "metadata": {},
   "outputs": [],
   "source": [
    "# Speciific  model for this run.\n",
    "# Add the name of the specific mode folder file by replacing the worth between \" \" \n",
    "gridpath_input_csvs = \"7_2050_12-capex\"\n",
    "\n",
    "# Add your database name below between \"\" or leave blank to use input_csvs_gridpath as database name\n",
    "db_name = \"\"\n",
    "db_name = db_name if db_name else gridpath_input_csvs\n",
    "print(f\"Database name is set to: {db_name}\")"
   ]
  },
  {
   "cell_type": "markdown",
   "id": "8bd00b20-1515-4028-b70f-04cb96758ca8",
   "metadata": {},
   "source": [
    "### Creating database, importing state inputs and importing scenarios to the database for modeling"
   ]
  },
  {
   "cell_type": "code",
   "execution_count": null,
   "id": "7a709c6a-8c48-4fbd-a467-4a1db1eefc04",
   "metadata": {
    "scrolled": true
   },
   "outputs": [],
   "source": [
    "!python {directory}/gridpath/db/create_database.py --database {db_dir}/{db_name}.db"
   ]
  },
  {
   "cell_type": "code",
   "execution_count": null,
   "id": "b47d1ee9-9142-4b9b-bc1e-587b02ae975e",
   "metadata": {
    "scrolled": true,
    "tags": []
   },
   "outputs": [],
   "source": [
    "!python {directory}/gridpath/db/utilities/port_csvs_to_db.py --database {db_dir}/{db_name}.db --csv_location {csv_dir}/{gridpath_input_csvs}"
   ]
  },
  {
   "cell_type": "code",
   "execution_count": null,
   "id": "97e1e564-e14a-4ec1-8087-420f94fcaed3",
   "metadata": {},
   "outputs": [],
   "source": [
    "!python {directory}/gridpath/db/utilities/scenario.py --database {db_dir}/{db_name}.db --csv_path {csv_dir}/{gridpath_input_csvs}/scenarios.csv"
   ]
  },
  {
   "cell_type": "code",
   "execution_count": null,
   "id": "b8350375-c998-4280-a0c8-d469a1d1afdb",
   "metadata": {},
   "outputs": [],
   "source": [
    "# This will print out all possible scenarios available\n",
    "scenario_csv = pd.read_csv(f\"{csv_dir}/{gridpath_input_csvs}/scenarios.csv\")\n",
    "column_names = scenario_csv.columns[1:]\n",
    "\n",
    "# Print scenario names\n",
    "print(\"Available scenarios:\")\n",
    "for name in column_names:\n",
    "    print(name)"
   ]
  },
  {
   "cell_type": "markdown",
   "id": "3b53eb90-52d7-4a04-a6b3-ff5313a53e0c",
   "metadata": {},
   "source": [
    "## Select scenarios from the list above and add to the `selected_scenario` below before running."
   ]
  },
  {
   "cell_type": "markdown",
   "id": "a74ae4e9-8e1b-4ddd-bcde-dc529a3e515a",
   "metadata": {},
   "source": [
    "### User Edit Section"
   ]
  },
  {
   "cell_type": "code",
   "execution_count": null,
   "id": "f625d1d3-8a17-48af-bef1-b5569d6f8109",
   "metadata": {},
   "outputs": [],
   "source": [
    "# Add or remove scenarios from above to the list below:\n",
    "scen_list = [\"VRElow_STlow_CONVmid_BPHS_NuclearPVboth_45Ret_PRM110-3_2030_12-capex-MP\",\n",
    "             \"VREmid_STmid_CONVmid_BPHS_NuclearPVboth_45Ret_PRM110-3_2030_12-capex-MP\", \n",
    "             \"VREhigh_SThigh_CONVmid_BPHS_NuclearPVboth_45Ret_PRM110-3_2030_12-capex-MP\"]"
   ]
  },
  {
   "cell_type": "markdown",
   "id": "a121f84f-809d-4ac1-b900-e05c6da32e9c",
   "metadata": {},
   "source": [
    "### Running selected scenarios"
   ]
  },
  {
   "cell_type": "code",
   "execution_count": null,
   "id": "a3f602ac-9fd2-42db-8c38-f856a509dbe8",
   "metadata": {
    "scrolled": true
   },
   "outputs": [],
   "source": [
    "# for selected_scenario in scen_list:\n",
    "#     !python {directory}/gridpath/gridpath/run_end_to_end.py --database {db_dir}/{db_name}.db --scenario {selected_scenario} --solver cbc --solver_executable {directory}\\solver\\CBC\\bin\\cbc.exe --scenario_location {scen_dir}\n",
    "\n",
    "# For Mac user, run below:\n",
    "for selected_scenario in scen_list:\n",
    "   !python {directory}/gridpath/gridpath/run_end_to_end.py --database {db_dir}/{db_name}.db --scenario {selected_scenario} --scenario_location {scen_dir}"
   ]
  },
  {
   "cell_type": "markdown",
   "id": "f2929c33-1157-47df-b461-81f6516fcaf0",
   "metadata": {
    "jp-MarkdownHeadingCollapsed": true
   },
   "source": [
    "# Visualization: Capacity Expansion\n",
    "The following section is for visualizing the results from the GridPath Capacity Expansion model above."
   ]
  },
  {
   "cell_type": "code",
   "execution_count": null,
   "id": "92591719-1fd3-444d-8d6a-a936c0898336",
   "metadata": {},
   "outputs": [],
   "source": [
    "# Checking the directory is correct - should be state_model folder\n",
    "os.chdir(software_dir)\n",
    "print(os.getcwd())"
   ]
  },
  {
   "cell_type": "code",
   "execution_count": null,
   "id": "b847c073-6df1-4c7b-8cea-a56ce5fb34c8",
   "metadata": {},
   "outputs": [],
   "source": [
    "# loading packages and setting results folder\n",
    "from loading_utils import * \n",
    "from plotting_utils import * \n",
    "from processing_utils import *\n",
    "from pdf_report import * \n",
    "\n",
    "path_to_scenarios = f\"{directory}/scenarios\"\n",
    "print(path_to_scenarios)"
   ]
  },
  {
   "cell_type": "markdown",
   "id": "5895842f-51f7-48b3-ac15-60c73b365eae",
   "metadata": {},
   "source": [
    "Loading necessary functions for the zones, scenarios labels `<scenario_labels.csv>` and technology colors `<technology_labels.csv>` to plot the graph for new and existing capacity"
   ]
  },
  {
   "cell_type": "code",
   "execution_count": null,
   "id": "28dbdec9-c743-4743-9c7c-18932f5bc81e",
   "metadata": {},
   "outputs": [],
   "source": [
    "scen_labels_     = pd.read_csv(directory + '/gridpath_input_csvs/scenario_labels-capex.csv') \n",
    "tech_labels_     = pd.read_csv(directory + '/gridpath_input_csvs/technology_labels-capex.csv') \n",
    "dispatch_labels_ = pd.read_csv(directory + '/gridpath_input_csvs/dispatch_labels-capex.csv') "
   ]
  },
  {
   "cell_type": "markdown",
   "id": "fed2b494-3d2b-41fa-a8e5-c3dc767c5bb5",
   "metadata": {},
   "source": [
    "Load new and existing capacity across different scenarios, grouping the capacity by technology."
   ]
  },
  {
   "cell_type": "code",
   "execution_count": null,
   "id": "8b2163dd-1502-4adb-874a-d8d1a782db41",
   "metadata": {},
   "outputs": [],
   "source": [
    "capacity_         = _load_capacity(scen_labels_, path_to_scenarios, gp_model = 'capex')\n",
    "grouped_capacity_ = _group_capacity_technologies(capacity_, tech_labels_)\n",
    "grouped_capacity_"
   ]
  },
  {
   "cell_type": "markdown",
   "id": "7882a56f-bde8-4e79-8883-42cb08ab4416",
   "metadata": {},
   "source": [
    "Plotting the new and existing capacity. Add title name for the plot."
   ]
  },
  {
   "cell_type": "code",
   "execution_count": null,
   "id": "71474a05-df78-4e71-9f60-1c5c55f50197",
   "metadata": {},
   "outputs": [],
   "source": [
    "_plot_new_and_existing_capacity(grouped_capacity_, scen_labels_, tech_labels_,\n",
    "                                units        = 1e3,\n",
    "                                units_label  = 'Existing & New Capacity (GW)',\n",
    "                                legend       = True,\n",
    "                                save         = True,\n",
    "                                y_grid_inc   = 25,\n",
    "                                title        = '',\n",
    "                                file_name    = directory + r'/plots/group_installed_capacity_capex.png')"
   ]
  },
  {
   "cell_type": "markdown",
   "id": "b15ab827-0c31-492d-8c1e-43dcbfe7c398",
   "metadata": {},
   "source": [
    "Energy dispatch by scenarios, zone and date"
   ]
  },
  {
   "cell_type": "code",
   "execution_count": null,
   "id": "f3929cec-f016-4ad0-afd5-8bae09889e33",
   "metadata": {},
   "outputs": [],
   "source": [
    "dispatch_         = _load_energy_dispatch(scen_labels_, path_to_scenarios, gp_model = 'capex')\n",
    "grouped_dispatch_ = _group_dispatch_technologies(dispatch_, tech_labels_)\n",
    "grouped_dispatch_"
   ]
  },
  {
   "cell_type": "markdown",
   "id": "7e689de8-7d0c-45ea-b383-f9e5c01ec5ae",
   "metadata": {},
   "source": [
    "Load energy dispatch "
   ]
  },
  {
   "cell_type": "code",
   "execution_count": null,
   "id": "0e43a778-4124-4c37-a52d-047131354873",
   "metadata": {},
   "outputs": [],
   "source": [
    "# Enter a title of your choice between the quotation marks ('') under title = ''.\n",
    "_plot_dispatch(grouped_dispatch_, scen_labels_, tech_labels_, \n",
    "               units        = 1e6, \n",
    "               units_label  = r'Electricity Generation (TWh)',\n",
    "               save         = True,\n",
    "               legend       = True,\n",
    "               y_grid_inc   = 50,\n",
    "               title        = '',\n",
    "               file_name    = directory + r'/plots/group_electricity_generation_capex.png')"
   ]
  },
  {
   "cell_type": "code",
   "execution_count": null,
   "id": "8a4e9d3b-6173-4172-94fa-8963b866667b",
   "metadata": {},
   "outputs": [],
   "source": [
    "ed_ = _processing_energy_dispatch(scen_labels_, path_to_scenarios, model = 'capex')\n",
    "ed_ = _group_dispatch_technologies_by_zone_and_date_production(ed_, tech_labels_)"
   ]
  },
  {
   "cell_type": "markdown",
   "id": "b20a3e47-6ac9-474d-904f-d6e2d0e94254",
   "metadata": {},
   "source": [
    "Plotting energy dispatch"
   ]
  },
  {
   "cell_type": "code",
   "execution_count": null,
   "id": "e484adc1-79e1-4cb3-914c-30b175b03c03",
   "metadata": {},
   "outputs": [],
   "source": [
    "# Plot energy dispatch for a given day\n",
    "_plot_zone_energy_dispatch_production(ed_, scen_labels_, tech_labels_, dispatch_labels_,\n",
    "                                      save      = True,\n",
    "                                      legend    = True,\n",
    "                                      file_name = directory + r'/plots/energy_dispatch_capex.png')"
   ]
  },
  {
   "cell_type": "markdown",
   "id": "90dd7812-680e-4681-9120-41051543ae8b",
   "metadata": {},
   "source": [
    "Load Greenhouse Gas (GHG) emissions and load energy demand for different scenarios"
   ]
  },
  {
   "cell_type": "code",
   "execution_count": null,
   "id": "c0f9ae2c-d06d-4c59-b4db-ad93b0627699",
   "metadata": {},
   "outputs": [],
   "source": [
    "emissions_, demand_ = _load_GHG_emissions(scen_labels_, path_to_scenarios, gp_model = 'capex')\n",
    "emissions_"
   ]
  },
  {
   "cell_type": "markdown",
   "id": "be0a836b-17e5-46e7-90b8-5bcc1459b4b7",
   "metadata": {},
   "source": [
    "Plot GHG emissions for different scenarios"
   ]
  },
  {
   "cell_type": "code",
   "execution_count": null,
   "id": "e5d4fea3-8472-4b68-9ade-bc95822fd635",
   "metadata": {},
   "outputs": [],
   "source": [
    "# Enter a title of your choice between the quotation marks ('') under title = ''.\n",
    "_plot_emissions(emissions_, scen_labels_, \n",
    "                units      = 1e6,\n",
    "                unit_label = r'GHG Emissions (MtCO$_2$)',\n",
    "                save       = True,\n",
    "                legend     = True,\n",
    "                title      = '',\n",
    "                file_name  = directory + r'/plots/GHG_emissions_capex.png')"
   ]
  },
  {
   "cell_type": "markdown",
   "id": "ed89dd61-e9a6-45a7-9e7c-954c5e0e0196",
   "metadata": {},
   "source": [
    "Processing GHG emissions intensity for different scenarios"
   ]
  },
  {
   "cell_type": "code",
   "execution_count": null,
   "id": "7cb8a623-d410-43b2-966e-17c107a54b26",
   "metadata": {},
   "outputs": [],
   "source": [
    "intesity_, demand_ = _GHG_emissions_intensity(emissions_, demand_)\n",
    "intesity_"
   ]
  },
  {
   "cell_type": "markdown",
   "id": "ed0e4731-2db5-4a27-866c-4b01e5ea95ab",
   "metadata": {},
   "source": [
    "Plot system Levelized Cost of Electricity (LCOE) for different scenarios"
   ]
  },
  {
   "cell_type": "code",
   "execution_count": null,
   "id": "7547ef19-93fb-4d33-a892-4c3b56ee1352",
   "metadata": {},
   "outputs": [],
   "source": [
    "# Enter a title of your choice between the quotation marks ('') under title = ''.\n",
    "_plot_emissions_intensity(intesity_, scen_labels_, \n",
    "                          unit_label = r'GHG Intensity (MtCO$_2$/MWh)',\n",
    "                          save       = True,\n",
    "                          legend     = True,\n",
    "                          title      = '',\n",
    "                          file_name  = directory + r'/plots/GHG_emissions_intensity_capex.png')"
   ]
  },
  {
   "cell_type": "markdown",
   "id": "25a232a3-8dbf-4269-af4e-ac2f7402a47b",
   "metadata": {},
   "source": [
    "Load system cost data for different scenarios"
   ]
  },
  {
   "cell_type": "code",
   "execution_count": null,
   "id": "73d1321f-624e-4b95-bc97-ee8682931944",
   "metadata": {},
   "outputs": [],
   "source": [
    "system_cost_ = _load_system_cost(scen_labels_, path_to_scenarios, gp_model = 'capex')\n",
    "system_cost_"
   ]
  },
  {
   "cell_type": "markdown",
   "id": "07304db9-a0b3-4116-88f5-b2d3a42391a8",
   "metadata": {},
   "source": [
    "Plot system Levelized Cost of Electricity (LCOE) for different scenarios"
   ]
  },
  {
   "cell_type": "code",
   "execution_count": null,
   "id": "42080366-e8d8-4db4-b9f7-df45af218b6d",
   "metadata": {},
   "outputs": [],
   "source": [
    "# Enter a title of your choice between the quotation marks ('') under title = ''.\n",
    "_plot_system_cost(system_cost_, scen_labels_, \n",
    "                  unit_label = r'Costs (USD per MWh)', \n",
    "                  save       = True, \n",
    "                  legend     = True,\n",
    "                  title      = '', \n",
    "                  file_name  = directory + r'/plots/system_cost_capex.png')"
   ]
  },
  {
   "cell_type": "code",
   "execution_count": null,
   "id": "582afb14-ee48-4871-a2a2-12426dc7b321",
   "metadata": {},
   "outputs": [],
   "source": [
    "# Replace with a specific scenario if needed, otherwise leave blank\n",
    "scenario = 'VREmid_STmid_CONVmid_BPHS_NuclearPVboth_45Ret_PRM110-3_2030_12-capex-MP' \n",
    "# Replace with 'new' or existing' so only new capacity is shown, otherwise leave blank for new and existing\n",
    "status = 'new' \n",
    "filtered_capacity_ = _filter_capacity(grouped_capacity_, scenario, status)\n",
    "filtered_capacity_"
   ]
  },
  {
   "cell_type": "markdown",
   "id": "bd8a1d71-a8af-49d1-8b75-e2f97985bfff",
   "metadata": {},
   "source": [
    "## PDF Report Output"
   ]
  },
  {
   "cell_type": "code",
   "execution_count": null,
   "id": "7405f677-ee60-4888-bb54-ff37ec2effec",
   "metadata": {},
   "outputs": [],
   "source": [
    "# Option to add tables at the end of the PDF\n",
    "add_tables = False  # Set to True to add tables; False to exclude tables"
   ]
  },
  {
   "cell_type": "code",
   "execution_count": null,
   "id": "5e704637-e6f0-47fa-83de-0ea7564a926f",
   "metadata": {},
   "outputs": [],
   "source": [
    "# Define file paths based on the existing directory variable\n",
    "plot_details_csv = directory + r'/gridpath_input_csvs/plot_details-capex.csv'\n",
    "output_pdf_filename = directory + r'/Gridpath_Capacity_Expansion_Report.pdf' \n",
    "\n",
    "tables = [grouped_dispatch_, grouped_capacity_, emissions_, intesity_, system_cost_]  # List of DataFrames\n",
    "\n",
    "# Generate the PDF\n",
    "generate_pdf_report(directory, plot_details_csv, output_pdf_filename, tables=tables, add_tables=add_tables)\n"
   ]
  },
  {
   "cell_type": "code",
   "execution_count": null,
   "id": "c0f5dc2a-51de-46f1-b769-f0b32af8fb63",
   "metadata": {},
   "outputs": [],
   "source": []
  },
  {
   "cell_type": "code",
   "execution_count": null,
   "id": "233f5f3e-f9a2-4001-9586-17c897f86400",
   "metadata": {},
   "outputs": [],
   "source": []
  }
 ],
 "metadata": {
  "kernelspec": {
   "display_name": "Python 3 (ipykernel)",
   "language": "python",
   "name": "python3"
  },
  "language_info": {
   "codemirror_mode": {
    "name": "ipython",
    "version": 3
   },
   "file_extension": ".py",
   "mimetype": "text/x-python",
   "name": "python",
   "nbconvert_exporter": "python",
   "pygments_lexer": "ipython3",
   "version": "3.9.18"
  }
 },
 "nbformat": 4,
 "nbformat_minor": 5
}
